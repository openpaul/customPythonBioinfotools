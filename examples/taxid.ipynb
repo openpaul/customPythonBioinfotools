{
 "cells": [
  {
   "cell_type": "code",
   "execution_count": 1,
   "id": "80139bf2",
   "metadata": {},
   "outputs": [
    {
     "data": {
      "text/plain": [
       "NCBITaxId(taxid='9606', lineage=[1, 131567, 2759, 33154, 33208, 6072, 33213, 33511, 7711, 89593, 7742, 7776, 117570, 117571, 8287, 1338369, 32523, 32524, 40674, 32525, 9347, 1437010, 314146, 9443, 376913, 314293, 9526, 314295, 9604, 207598, 9605, 9606], Lineage={'no rank': 'root', 'cellular root': 'cellular organisms', 'domain': 'Eukaryota', 'clade': 'Boreoeutheria', 'kingdom': 'Metazoa', 'phylum': 'Chordata', 'subphylum': 'Craniata', 'superclass': 'Sarcopterygii', 'class': 'Mammalia', 'superorder': 'Euarchontoglires', 'order': 'Primates', 'suborder': 'Haplorrhini', 'infraorder': 'Simiiformes', 'parvorder': 'Catarrhini', 'superfamily': 'Hominoidea', 'family': 'Hominidae', 'subfamily': 'Homininae', 'genus': 'Homo', 'species': 'Homo sapiens'})"
      ]
     },
     "execution_count": 1,
     "metadata": {},
     "output_type": "execute_result"
    }
   ],
   "source": [
    "from cstbioinfo.tax import NCBITaxId\n",
    "\n",
    "NCBITaxId(\"9606\")"
   ]
  },
  {
   "cell_type": "code",
   "execution_count": 4,
   "id": "ad786933",
   "metadata": {},
   "outputs": [
    {
     "name": "stdout",
     "output_type": "stream",
     "text": [
      "10092: Mus musculus domesticus (western European house mouse) - subspecies\n",
      "10090: Mus musculus (Mouse) - species\n",
      "862507: Mus () - subgenus\n",
      "10088: Mus (mice) - genus\n",
      "39107: Murinae () - subfamily\n",
      "10066: Muridae () - family\n",
      "337687: Muroidea () - clade\n",
      "1963758: Myomorpha (mice and others) - suborder\n",
      "9989: Rodentia (rodent) - order\n",
      "314147: Glires (Rodents and rabbits) - clade\n",
      "314146: Euarchontoglires () - superorder\n",
      "1437010: Boreoeutheria () - clade\n",
      "9347: Eutheria (placentals) - clade\n",
      "32525: Theria () - clade\n",
      "40674: Mammalia (mammals) - class\n",
      "32524: Amniota (amniotes) - clade\n",
      "32523: Tetrapoda (tetrapods) - clade\n",
      "1338369: Dipnotetrapodomorpha () - clade\n",
      "8287: Sarcopterygii () - superclass\n",
      "117571: Euteleostomi (bony vertebrates) - clade\n",
      "117570: Teleostomi () - clade\n",
      "7776: Gnathostomata (jawed vertebrates) - clade\n",
      "7742: Vertebrata (vertebrates) - clade\n",
      "89593: Craniata () - subphylum\n",
      "7711: Chordata (chordates) - phylum\n",
      "33511: Deuterostomia () - clade\n",
      "33213: Bilateria () - clade\n",
      "6072: Eumetazoa () - clade\n",
      "33208: Metazoa (metazoans) - kingdom\n",
      "33154: Opisthokonta () - clade\n",
      "2759: Eukaryota (eucaryotes) - domain\n",
      "131567: cellular organisms () - no rank\n"
     ]
    }
   ],
   "source": [
    "from typing import List\n",
    "\n",
    "from cstbioinfo.tax import TaxEntry, UniProtTax\n",
    "\n",
    "# Example usage with proper typing\n",
    "tax_db = UniProtTax(redownload=False)\n",
    "lineage: List[TaxEntry] = tax_db.get_lineage(10092)\n",
    "\n",
    "for entry in lineage:\n",
    "    print(entry)"
   ]
  }
 ],
 "metadata": {
  "kernelspec": {
   "display_name": "custombioinfotools",
   "language": "python",
   "name": "python3"
  },
  "language_info": {
   "codemirror_mode": {
    "name": "ipython",
    "version": 3
   },
   "file_extension": ".py",
   "mimetype": "text/x-python",
   "name": "python",
   "nbconvert_exporter": "python",
   "pygments_lexer": "ipython3",
   "version": "3.12.11"
  }
 },
 "nbformat": 4,
 "nbformat_minor": 5
}
