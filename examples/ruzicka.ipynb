{
 "cells": [
  {
   "cell_type": "code",
   "execution_count": 1,
   "id": "d559496a",
   "metadata": {},
   "outputs": [],
   "source": [
    "import plotnine as p9\n",
    "import polars as pl\n",
    "from p9customtheme import custom_discrete, custom_theme\n",
    "\n",
    "# Download a example dataset from OAS\n",
    "url1 = \"https://opig.stats.ox.ac.uk/webapps/ngsdb/paired/Alsoiussi_2020/csv/SRR11528761_paired.csv.gz\"\n",
    "df1 = pl.read_csv(url1, has_header=True, skip_rows=1, separator=\",\")\n",
    "\n",
    "\n",
    "url2 = \"https://opig.stats.ox.ac.uk/webapps/ngsdb/paired/Alsoiussi_2020/csv/SRR11528762_paired.csv.gz\"\n",
    "df2 = pl.read_csv(url2, has_header=True, skip_rows=1, separator=\",\")\n"
   ]
  },
  {
   "cell_type": "code",
   "execution_count": 2,
   "id": "4b5106ea",
   "metadata": {},
   "outputs": [
    {
     "name": "stdout",
     "output_type": "stream",
     "text": [
      "Combined DataFrame shape: (11388, 181)\n"
     ]
    }
   ],
   "source": [
    "from cstbioinfo.immune import ruzicka_similarity\n",
    "df1 = df1.with_columns(pl.lit(\"SRR11528761\").alias(\"sample_id\"))\n",
    "df2 = df2.with_columns(pl.lit(\"SRR11528762\").alias(\"sample_id\"))\n",
    "df_combined = pl.concat([df1, df2], how=\"vertical\")\n",
    "\n",
    "print(f\"Combined DataFrame shape: {df_combined.shape}\")"
   ]
  },
  {
   "cell_type": "code",
   "execution_count": 12,
   "id": "a28715b2",
   "metadata": {},
   "outputs": [
    {
     "data": {
      "text/html": [
       "<div><style>\n",
       ".dataframe > thead > tr,\n",
       ".dataframe > tbody > tr {\n",
       "  text-align: right;\n",
       "  white-space: pre-wrap;\n",
       "}\n",
       "</style>\n",
       "<small>shape: (2, 5)</small><table border=\"1\" class=\"dataframe\"><thead><tr><th>sample_id</th><th>v_call_heavy</th><th>j_call_heavy</th><th>junction_aa_heavy</th><th>count</th></tr><tr><td>str</td><td>str</td><td>str</td><td>str</td><td>u32</td></tr></thead><tbody><tr><td>&quot;SRR11528762&quot;</td><td>&quot;IGHV14-4*01&quot;</td><td>&quot;IGHJ4*01&quot;</td><td>&quot;CTTGSYGNYVNSMDYW&quot;</td><td>1</td></tr><tr><td>&quot;SRR11528761&quot;</td><td>&quot;IGHV2-2*03&quot;</td><td>&quot;IGHJ2*01&quot;</td><td>&quot;CASPIYYEGFDYW&quot;</td><td>1</td></tr></tbody></table></div>"
      ],
      "text/plain": [
       "shape: (2, 5)\n",
       "┌─────────────┬──────────────┬──────────────┬───────────────────┬───────┐\n",
       "│ sample_id   ┆ v_call_heavy ┆ j_call_heavy ┆ junction_aa_heavy ┆ count │\n",
       "│ ---         ┆ ---          ┆ ---          ┆ ---               ┆ ---   │\n",
       "│ str         ┆ str          ┆ str          ┆ str               ┆ u32   │\n",
       "╞═════════════╪══════════════╪══════════════╪═══════════════════╪═══════╡\n",
       "│ SRR11528762 ┆ IGHV14-4*01  ┆ IGHJ4*01     ┆ CTTGSYGNYVNSMDYW  ┆ 1     │\n",
       "│ SRR11528761 ┆ IGHV2-2*03   ┆ IGHJ2*01     ┆ CASPIYYEGFDYW     ┆ 1     │\n",
       "└─────────────┴──────────────┴──────────────┴───────────────────┴───────┘"
      ]
     },
     "execution_count": 12,
     "metadata": {},
     "output_type": "execute_result"
    }
   ],
   "source": [
    "df_count = (df_combined\n",
    "                .group_by([\"sample_id\", \"v_call_heavy\", \"j_call_heavy\", \"junction_aa_heavy\"])\n",
    "                .agg(pl.len().alias(\"count\"))\n",
    "            )\n",
    "df_count.head(2)"
   ]
  },
  {
   "cell_type": "code",
   "execution_count": 17,
   "id": "7dde789e",
   "metadata": {},
   "outputs": [
    {
     "name": "stdout",
     "output_type": "stream",
     "text": [
      "Numerator: 5412.0, Denominator: 5976.0\n"
     ]
    },
    {
     "data": {
      "text/html": [
       "<div><style>\n",
       ".dataframe > thead > tr,\n",
       ".dataframe > tbody > tr {\n",
       "  text-align: right;\n",
       "  white-space: pre-wrap;\n",
       "}\n",
       "</style>\n",
       "<small>shape: (1, 3)</small><table border=\"1\" class=\"dataframe\"><thead><tr><th>sample_1</th><th>sample_2</th><th>similarity</th></tr><tr><td>str</td><td>str</td><td>f64</td></tr></thead><tbody><tr><td>&quot;SRR11528761&quot;</td><td>&quot;SRR11528762&quot;</td><td>0.905622</td></tr></tbody></table></div>"
      ],
      "text/plain": [
       "shape: (1, 3)\n",
       "┌─────────────┬─────────────┬────────────┐\n",
       "│ sample_1    ┆ sample_2    ┆ similarity │\n",
       "│ ---         ┆ ---         ┆ ---        │\n",
       "│ str         ┆ str         ┆ f64        │\n",
       "╞═════════════╪═════════════╪════════════╡\n",
       "│ SRR11528761 ┆ SRR11528762 ┆ 0.905622   │\n",
       "└─────────────┴─────────────┴────────────┘"
      ]
     },
     "execution_count": 17,
     "metadata": {},
     "output_type": "execute_result"
    }
   ],
   "source": [
    "ruzicka_similarity(\n",
    "    df_count,\n",
    "    feature_columns=[\"v_call_heavy\", \"j_call_heavy\", \"junction_aa_heavy\"],\n",
    "    count_column=\"count\",\n",
    "    sample_column=\"sample_id\",\n",
    ")"
   ]
  }
 ],
 "metadata": {
  "kernelspec": {
   "display_name": "custombioinfotools",
   "language": "python",
   "name": "python3"
  },
  "language_info": {
   "codemirror_mode": {
    "name": "ipython",
    "version": 3
   },
   "file_extension": ".py",
   "mimetype": "text/x-python",
   "name": "python",
   "nbconvert_exporter": "python",
   "pygments_lexer": "ipython3",
   "version": "3.12.11"
  }
 },
 "nbformat": 4,
 "nbformat_minor": 5
}
