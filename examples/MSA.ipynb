{
 "cells": [
  {
   "cell_type": "code",
   "execution_count": null,
   "id": "dab0c416",
   "metadata": {},
   "outputs": [
    {
     "name": "stdout",
     "output_type": "stream",
     "text": [
      "MsaViz object created successfully!\n",
      "Available methods: ['add_markers', 'add_text_annotation', 'alignment_length', 'available_color_schemes', 'color_scheme', 'consensus_seq', 'desc_list', 'id_list', 'msa', 'msa_count', 'plotfig', 'savefig', 'seq_list', 'set_custom_color_func', 'set_custom_color_scheme', 'set_highlight_pos', 'set_highlight_pos_by_ident_thr', 'set_plot_params', 'wrap_num']\n"
     ]
    }
   ],
   "source": [
    "# Quick test of pyMSAviz basic functionality\n",
    "import tempfile\n",
    "\n",
    "from Bio import SeqIO\n",
    "from Bio.Seq import Seq\n",
    "from Bio.SeqRecord import SeqRecord\n",
    "from pymsaviz import MsaViz\n",
    "\n",
    "# Create simple test sequences\n",
    "test_seqs = [\n",
    "    SeqRecord(Seq(\"ACGTACGT\"), id=\"seq1\"),\n",
    "    SeqRecord(Seq(\"ACGTACGA\"), id=\"seq2\"),\n",
    "    SeqRecord(Seq(\"ACGTACGG\"), id=\"seq3\"),\n",
    "]\n",
    "\n",
    "# Write to temp file\n",
    "with tempfile.NamedTemporaryFile(mode=\"w\", suffix=\".fasta\", delete=False) as f:\n",
    "    SeqIO.write(test_seqs, f.name, \"fasta\")\n",
    "    temp_file = f.name\n",
    "\n",
    "# Test MsaViz\n",
    "try:\n",
    "    mv = MsaViz(temp_file)\n",
    "    print(\"MsaViz object created successfully!\")\n",
    "    print(\n",
    "        f\"Available methods: {[method for method in dir(mv) if not method.startswith('_')]}\"\n",
    "    )\n",
    "except Exception as e:\n",
    "    print(f\"Error creating MsaViz: {e}\")\n",
    "\n",
    "import os\n",
    "\n",
    "if os.path.exists(temp_file):\n",
    "    os.unlink(temp_file)"
   ]
  },
  {
   "cell_type": "markdown",
   "id": "ccc0caf4",
   "metadata": {},
   "source": [
    "# MSA Visualization Example\n",
    "\n",
    "This notebook demonstrates how to use the custom MSA functions for alignment and visualization using BioPython and pyMSAviz."
   ]
  },
  {
   "cell_type": "code",
   "execution_count": null,
   "id": "9a392cee",
   "metadata": {},
   "outputs": [],
   "source": [
    "# Import the custom MSA functions\n",
    "import sys\n",
    "\n",
    "sys.path.append(\"../src\")\n",
    "from MSA import msa, plot_msa"
   ]
  },
  {
   "cell_type": "markdown",
   "id": "379245ac",
   "metadata": {},
   "source": [
    "## Example 1: Basic DNA Sequence Alignment"
   ]
  },
  {
   "cell_type": "code",
   "execution_count": null,
   "id": "b5c88523",
   "metadata": {},
   "outputs": [
    {
     "name": "stdout",
     "output_type": "stream",
     "text": [
      "Original sequences:\n",
      "sequence_1: ACGTACGTACGTACGT\n",
      "sequence_2: ACGTGGACGTACGAACGT\n",
      "sequence_3: ACGTACGTACGGACGT\n",
      "sequence_4: ACGATACAGTACGTACGA\n"
     ]
    }
   ],
   "source": [
    "# Define some example DNA sequences\n",
    "dna_sequences = [\n",
    "    \"ACGTACGTACGTACGT\",\n",
    "    \"ACGTGGACGTACGAACGT\",\n",
    "    \"ACGTACGTACGGACGT\",\n",
    "    \"ACGATACAGTACGTACGA\",\n",
    "]\n",
    "aa_sequenes = [\"MKTAYIAKQRQISF\", \"MKTAYIAAGAKQRQISF\", \"MKTAYIAKQRQISF\", \"MKTAAKQRQISF\"]\n",
    "\n",
    "sequence_ids = [\"sequence_1\", \"sequence_2\", \"sequence_3\", \"sequence_4\"]\n",
    "\n",
    "print(\"Original sequences:\")\n",
    "for i, seq in enumerate(dna_sequences):\n",
    "    print(f\"{sequence_ids[i]}: {seq}\")"
   ]
  },
  {
   "cell_type": "code",
   "execution_count": 4,
   "id": "b90ef983",
   "metadata": {},
   "outputs": [
    {
     "name": "stdout",
     "output_type": "stream",
     "text": [
      "\n",
      "Aligned sequences:\n",
      "sequence_1: ac------gtacgtacgtacgt\n",
      "sequence_2: acgt----ggacgtacgaacgt\n",
      "sequence_3: ac------gtacgtacggacgt\n",
      "sequence_4: acgatacagtacgtacga----\n"
     ]
    }
   ],
   "source": [
    "# Align sequences\n",
    "aligned_seqs = msa(dna_sequences, seq_ids=sequence_ids)\n",
    "\n",
    "print(\"\\nAligned sequences:\")\n",
    "for seq_record in aligned_seqs:\n",
    "    print(f\"{seq_record.id}: {seq_record.seq}\")"
   ]
  },
  {
   "cell_type": "code",
   "execution_count": 14,
   "id": "89af633b",
   "metadata": {},
   "outputs": [
    {
     "data": {
      "image/png": "[encoded data removed]",
      "text/plain": [
       "<Figure size 238x150 with 3 Axes>"
      ]
     },
     "metadata": {},
     "output_type": "display_data"
    }
   ],
   "source": [
    "# Create visualization\n",
    "mv = plot_msa(\n",
    "    aa_sequenes,\n",
    "    seq_ids=sequence_ids,\n",
    "    title=\"Protein Sequence Alignment\",\n",
    "    wrap_length=250,\n",
    "    show_grid=True,\n",
    "    show_consensus=True,\n",
    ")\n",
    "\n",
    "# Display the plot properly (semicolon suppresses output)\n",
    "mv.plotfig();"
   ]
  }
 ],
 "metadata": {
  "kernelspec": {
   "display_name": "bioinfo",
   "language": "python",
   "name": "python3"
  },
  "language_info": {
   "codemirror_mode": {
    "name": "ipython",
    "version": 3
   },
   "file_extension": ".py",
   "mimetype": "text/x-python",
   "name": "python",
   "nbconvert_exporter": "python",
   "pygments_lexer": "ipython3",
   "version": "3.11.0"
  }
 },
 "nbformat": 4,
 "nbformat_minor": 5
}
